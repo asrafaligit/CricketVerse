{
 "cells": [
  {
   "cell_type": "code",
   "execution_count": 3,
   "id": "fa215653",
   "metadata": {},
   "outputs": [
    {
     "data": {
      "text/html": [
       "<div>\n",
       "<style scoped>\n",
       "    .dataframe tbody tr th:only-of-type {\n",
       "        vertical-align: middle;\n",
       "    }\n",
       "\n",
       "    .dataframe tbody tr th {\n",
       "        vertical-align: top;\n",
       "    }\n",
       "\n",
       "    .dataframe thead th {\n",
       "        text-align: right;\n",
       "    }\n",
       "</style>\n",
       "<table border=\"1\" class=\"dataframe\">\n",
       "  <thead>\n",
       "    <tr style=\"text-align: right;\">\n",
       "      <th></th>\n",
       "      <th>Stadium</th>\n",
       "      <th>City</th>\n",
       "      <th>Country</th>\n",
       "    </tr>\n",
       "  </thead>\n",
       "  <tbody>\n",
       "    <tr>\n",
       "      <th>0</th>\n",
       "      <td>Melbourne Cricket Ground</td>\n",
       "      <td>Melbourne</td>\n",
       "      <td>Australia</td>\n",
       "    </tr>\n",
       "    <tr>\n",
       "      <th>1</th>\n",
       "      <td>Jade Stadium</td>\n",
       "      <td>Christchurch</td>\n",
       "      <td>New Zealand</td>\n",
       "    </tr>\n",
       "    <tr>\n",
       "      <th>2</th>\n",
       "      <td>Civil Service Cricket Club</td>\n",
       "      <td>Belfast</td>\n",
       "      <td>Ireland</td>\n",
       "    </tr>\n",
       "    <tr>\n",
       "      <th>4</th>\n",
       "      <td>Maple Leaf North-West Ground</td>\n",
       "      <td>King City</td>\n",
       "      <td>Canada</td>\n",
       "    </tr>\n",
       "    <tr>\n",
       "      <th>9</th>\n",
       "      <td>New Wanderers Stadium</td>\n",
       "      <td>Johannesburg</td>\n",
       "      <td>South Africa</td>\n",
       "    </tr>\n",
       "  </tbody>\n",
       "</table>\n",
       "</div>"
      ],
      "text/plain": [
       "                        Stadium          City       Country\n",
       "0      Melbourne Cricket Ground     Melbourne     Australia\n",
       "1                  Jade Stadium  Christchurch   New Zealand\n",
       "2    Civil Service Cricket Club       Belfast       Ireland\n",
       "4  Maple Leaf North-West Ground     King City        Canada\n",
       "9         New Wanderers Stadium  Johannesburg  South Africa"
      ]
     },
     "execution_count": 3,
     "metadata": {},
     "output_type": "execute_result"
    }
   ],
   "source": [
    "import pandas as pd\n",
    "\n",
    "# Load the filtered dataset that includes stadium and corresponding city\n",
    "file_path = \"../filtered_t20i_Matches_Data.csv\"\n",
    "df = pd.read_csv(file_path)\n",
    "\n",
    "# Select the relevant columns\n",
    "mapping_df = df[[\"Match Venue (Stadium)\", \"Match Venue (City)\", \"Match Venue (Country)\"]].drop_duplicates()\n",
    "\n",
    "# Rename columns for clarity\n",
    "mapping_df.columns = [\"Stadium\", \"City\", \"Country\"]\n",
    "\n",
    "# Save the cleaned and filtered dataset\n",
    "cleaned_path = \"stadium.csv\"\n",
    "mapping_df.to_csv(cleaned_path, index=False)\n",
    "\n",
    "# Display the first few mappings\n",
    "mapping_df.head()\n"
   ]
  },
  {
   "cell_type": "code",
   "execution_count": null,
   "id": "48ea73a7",
   "metadata": {},
   "outputs": [],
   "source": []
  }
 ],
 "metadata": {
  "kernelspec": {
   "display_name": "Python 3",
   "language": "python",
   "name": "python3"
  },
  "language_info": {
   "codemirror_mode": {
    "name": "ipython",
    "version": 3
   },
   "file_extension": ".py",
   "mimetype": "text/x-python",
   "name": "python",
   "nbconvert_exporter": "python",
   "pygments_lexer": "ipython3",
   "version": "3.12.5"
  }
 },
 "nbformat": 4,
 "nbformat_minor": 5
}
